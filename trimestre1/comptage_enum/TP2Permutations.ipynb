{
 "cells": [
  {
   "cell_type": "markdown",
   "metadata": {},
   "source": [
    "# Permutations et Multi permutations\n",
    "\n",
    "Le but de ce TP est d'implanter les différents algorithmes combinatoires que nous avons vus en cours dans le cas des **permutations**.\n",
    "\n",
    "Les permutations d'un ensemble $S$ sont toutes les façons de lister les éléments de $S$. Par exemple, voici les permutations de l'ensemble $\\lbrace 1, 2, 3 \\rbrace$ :\n",
    "\n",
    "$123, 132, 213, 231, 312, 321$.\n",
    "\n",
    "Et voici les permutations de $\\lbrace 1,1,2 \\rbrace$ :\n",
    "\n",
    "$112, 121, 211$.\n",
    "\n",
    "## Engendrer les permutations simples\n",
    "\n",
    "On s'intéresse d'abord au cas où tous les éléments de $S$ sont distincts. \n",
    "\n",
    "Dans la fonction qui suit, on vous demande d'engendrer récursivement les permutations de $\\lbrace 1, \\dots n \\rbrace$. L'ordre dans lequel on obtient les permutatiosn n'a pas d'improtance. Comme dans le TP précédent, vous utiliserez un *générateur* à l'aide de l'instruction python *yield*.\n",
    "\n",
    "Essayez de trouver seul l'algorithme, si vous êtes bloqués, vous pouvez consulter le fichier **TP2_SOILER_ALERT**, **Indication 1**."
   ]
  },
  {
   "cell_type": "code",
   "execution_count": 1,
   "metadata": {},
   "outputs": [
    {
     "data": {
      "text/plain": [
       "[]"
      ]
     },
     "execution_count": 1,
     "metadata": {},
     "output_type": "execute_result"
    }
   ],
   "source": [
    "# Rappel manipulation de liste en python\n",
    "# liste vide\n",
    "lvide = []\n",
    "lvide"
   ]
  },
  {
   "cell_type": "code",
   "execution_count": 2,
   "metadata": {},
   "outputs": [
    {
     "data": {
      "text/plain": [
       "[3]"
      ]
     },
     "execution_count": 2,
     "metadata": {},
     "output_type": "execute_result"
    }
   ],
   "source": [
    "# liste à un élément\n",
    "l1 = [3]\n",
    "l1"
   ]
  },
  {
   "cell_type": "code",
   "execution_count": 3,
   "metadata": {},
   "outputs": [
    {
     "data": {
      "text/plain": [
       "[2, 2, 1, 3, 1, 2]"
      ]
     },
     "execution_count": 3,
     "metadata": {},
     "output_type": "execute_result"
    }
   ],
   "source": [
    "# concaténation de liste\n",
    "l = [2,2,1] + l1 + [1,2]\n",
    "l"
   ]
  },
  {
   "cell_type": "code",
   "execution_count": 4,
   "metadata": {},
   "outputs": [],
   "source": [
    "# Rappel python, copier un morceau de liste\n",
    "# l[a:b] retourne la liste l entre l'indice a (inclus) et l'indice b (exclus)\n",
    "l = [1,2,3,4]"
   ]
  },
  {
   "cell_type": "code",
   "execution_count": 5,
   "metadata": {},
   "outputs": [
    {
     "data": {
      "text/plain": [
       "[1, 2, 3, 4]"
      ]
     },
     "execution_count": 5,
     "metadata": {},
     "output_type": "execute_result"
    }
   ],
   "source": [
    "l[:] # copie de toute la liste"
   ]
  },
  {
   "cell_type": "code",
   "execution_count": 6,
   "metadata": {},
   "outputs": [
    {
     "data": {
      "text/plain": [
       "[]"
      ]
     },
     "execution_count": 6,
     "metadata": {},
     "output_type": "execute_result"
    }
   ],
   "source": [
    "l[:0] # copie de rien du tout"
   ]
  },
  {
   "cell_type": "code",
   "execution_count": 7,
   "metadata": {},
   "outputs": [
    {
     "data": {
      "text/plain": [
       "[1]"
      ]
     },
     "execution_count": 7,
     "metadata": {},
     "output_type": "execute_result"
    }
   ],
   "source": [
    "l[:1]"
   ]
  },
  {
   "cell_type": "code",
   "execution_count": 8,
   "metadata": {},
   "outputs": [
    {
     "data": {
      "text/plain": [
       "[1, 2, 3]"
      ]
     },
     "execution_count": 8,
     "metadata": {},
     "output_type": "execute_result"
    }
   ],
   "source": [
    "l[:3]"
   ]
  },
  {
   "cell_type": "code",
   "execution_count": 9,
   "metadata": {},
   "outputs": [
    {
     "data": {
      "text/plain": [
       "[2, 3]"
      ]
     },
     "execution_count": 9,
     "metadata": {},
     "output_type": "execute_result"
    }
   ],
   "source": [
    "l[1:3]"
   ]
  },
  {
   "cell_type": "code",
   "execution_count": 10,
   "metadata": {},
   "outputs": [
    {
     "data": {
      "text/plain": [
       "[2, 3, 4]"
      ]
     },
     "execution_count": 10,
     "metadata": {},
     "output_type": "execute_result"
    }
   ],
   "source": [
    "l[1:]"
   ]
  },
  {
   "cell_type": "code",
   "execution_count": 11,
   "metadata": {},
   "outputs": [
    {
     "data": {
      "text/plain": [
       "[3, 4]"
      ]
     },
     "execution_count": 11,
     "metadata": {},
     "output_type": "execute_result"
    }
   ],
   "source": [
    "l[2:]"
   ]
  },
  {
   "cell_type": "code",
   "execution_count": 12,
   "metadata": {},
   "outputs": [],
   "source": [
    "def permutations(n):\n",
    "    \"\"\"\n",
    "    Return a generator on standard permutations of size n (permutations of {1, ...n})\n",
    "    \n",
    "    Input:\n",
    "    \n",
    "        - n, a non negative integer\n",
    "    \"\"\"\n",
    "    if(n == 0):\n",
    "        yield []\n",
    "    else:\n",
    "        permutations_m1 = permutations(n-1)\n",
    "        for perm in permutations_m1:\n",
    "            for i in range(len(perm)+1):\n",
    "                yield perm[:i] + [n] + perm[i:] \n",
    "        "
   ]
  },
  {
   "cell_type": "code",
   "execution_count": 13,
   "metadata": {},
   "outputs": [],
   "source": [
    "def permutations_bis(n):\n",
    "    \"\"\"\n",
    "    Return a generator on permutations of the set s in lexicographic order\n",
    "    \n",
    "    INPUT:\n",
    "    \n",
    "    - s, a list of distinct integers in lexicographic order\n",
    "    \"\"\"\n",
    "    if(n == 0):\n",
    "        yield []\n",
    "    else:\n",
    "        permutations_m1 = permutations(n-1)\n",
    "        for perm in permutations_m1:\n",
    "            for i in range(len(perm)+1, 0):\n",
    "                yield perm[:i] + [n] + perm[i:] "
   ]
  },
  {
   "cell_type": "code",
   "execution_count": null,
   "metadata": {},
   "outputs": [],
   "source": []
  },
  {
   "cell_type": "code",
   "execution_count": 14,
   "metadata": {},
   "outputs": [],
   "source": [
    "# tests\n",
    "assert list(permutations(0)) == [[]]\n",
    "assert list(permutations(1)) == [[1]]\n",
    "P2 = list(permutations(2))\n",
    "P2.sort()\n",
    "assert P2 == [[1,2],[2,1]]\n",
    "P3 = list(permutations(3))\n",
    "P3.sort()\n",
    "assert P3 == [[1, 2, 3], [1, 3, 2], [2, 1, 3], [2, 3, 1], [3, 1, 2], [3, 2, 1]]\n",
    "assert len(list(permutations(4))) == 24"
   ]
  },
  {
   "cell_type": "code",
   "execution_count": null,
   "metadata": {},
   "outputs": [],
   "source": []
  },
  {
   "cell_type": "markdown",
   "metadata": {},
   "source": [
    "On souhaite à présent engendrer les permutations dans l'ordre lexicographique, est-ce le cas de votre algorithme ? *Sans doute pas...* "
   ]
  },
  {
   "cell_type": "code",
   "execution_count": 15,
   "metadata": {},
   "outputs": [
    {
     "data": {
      "text/plain": [
       "False"
      ]
     },
     "execution_count": 15,
     "metadata": {},
     "output_type": "execute_result"
    }
   ],
   "source": [
    "list(permutations(3)) == [[1, 2, 3], [1, 3, 2], [2, 1, 3], [2, 3, 1], [3, 1, 2], [3, 2, 1]]"
   ]
  },
  {
   "cell_type": "markdown",
   "metadata": {},
   "source": [
    "*False* -> j'avais raison... \n",
    "\n",
    "*True* -> Dans ce cas, soit vous conservez la liste des permutations de taille $n-1$, soit vous les engendrez plusieurs fois.\n",
    "\n",
    "Dans tous les cas, écrivez la fonction suivante. Cette fois, elle prend en argument la liste des nombres à permuter (et non plus seulement le nombre $n$) et engendre les permutations de ces nombres en ordre croissant.\n",
    "\n",
    "**Aide : TP2_SPOILER_ALERT Indication 2**"
   ]
  },
  {
   "cell_type": "code",
   "execution_count": 16,
   "metadata": {},
   "outputs": [],
   "source": [
    "def permutations_lex(s):\n",
    "    \"\"\"\n",
    "    Return a generator on permutations of the set s in lexicographic order\n",
    "    \n",
    "    INPUT:\n",
    "    \n",
    "    - s, a list of distinct integers in lexicographic order\n",
    "    \"\"\"\n",
    "    if s == []:\n",
    "        yield []\n",
    "    \n",
    "    for i in range(len(s)):\n",
    "        elt = s[i]\n",
    "        gen_perm = permutations_lex(s[:i] + s[i+1:])\n",
    "        for j in gen_perm:\n",
    "            yield [elt] + j\n",
    "        \n",
    "        \n"
   ]
  },
  {
   "cell_type": "code",
   "execution_count": 17,
   "metadata": {},
   "outputs": [
    {
     "data": {
      "text/plain": [
       "[[1, 2, 3], [1, 3, 2], [2, 1, 3], [2, 3, 1], [3, 1, 2], [3, 2, 1]]"
      ]
     },
     "execution_count": 17,
     "metadata": {},
     "output_type": "execute_result"
    }
   ],
   "source": [
    "list(permutations_lex([1,2,3]))"
   ]
  },
  {
   "cell_type": "code",
   "execution_count": 18,
   "metadata": {},
   "outputs": [],
   "source": [
    "# tests\n",
    "assert list(permutations_lex([])) == [[]]\n",
    "assert list(permutations_lex([1])) == [[1]]\n",
    "assert list(permutations_lex([2])) == [[2]]\n",
    "assert list(permutations_lex([1,2])) == [[1,2],[2,1]]\n",
    "assert list(permutations_lex([2,3])) == [[2,3],[3,2]]\n",
    "assert list(permutations_lex([1,2,3])) ==[[1, 2, 3], [1, 3, 2], [2, 1, 3], [2, 3, 1], [3, 1, 2], [3, 2, 1]]\n",
    "P4 = list(permutations_lex([1,2,3,4]))\n",
    "P4.sort()\n",
    "assert P4 == list(permutations_lex([1,2,3,4]))"
   ]
  },
  {
   "cell_type": "markdown",
   "metadata": {},
   "source": [
    "## Rank et Unrank\n",
    "\n",
    "La fonction *rank* donne le numéro de la permutation dans la liste (en partant de 0). **Aide : TP2_SPOILER_ALERT Indication 3**\n",
    "\n",
    "La fonction *unrank* donne la permutation qui a le numéro demandé. **Aide : TP2_SPOILER_ALERT Indication 4**\n",
    "\n",
    "**Remarque :** La méthode qui consiste à engendrer la liste jusqu'à l'indice ou la permutation recherchée n'est pas acceptable. On veut des algorithmes dont la complexité est linéaire en fonction de la taille de la liste $s$.\n",
    "\n",
    "On travaille toujours avec l'ordre lexicographique."
   ]
  },
  {
   "cell_type": "code",
   "execution_count": 19,
   "metadata": {},
   "outputs": [
    {
     "data": {
      "text/plain": [
       "24"
      ]
     },
     "execution_count": 19,
     "metadata": {},
     "output_type": "execute_result"
    }
   ],
   "source": [
    "# Si besoin, vous pouvez utiliser la fonction suivante\n",
    "import math\n",
    "math.factorial(4)"
   ]
  },
  {
   "cell_type": "code",
   "execution_count": 20,
   "metadata": {},
   "outputs": [
    {
     "data": {
      "text/plain": [
       "1"
      ]
     },
     "execution_count": 20,
     "metadata": {},
     "output_type": "execute_result"
    }
   ],
   "source": [
    "# rappel python, l'indice d'un élément dans une liste\n",
    "l = [2,3,1]\n",
    "l.index(3)"
   ]
  },
  {
   "cell_type": "code",
   "execution_count": 21,
   "metadata": {},
   "outputs": [],
   "source": [
    "import math\n",
    "def rank(s,p):\n",
    "    \"\"\"\n",
    "    Return the rank of the permutation p among permutations of the set s in lex order\n",
    "    \n",
    "    INPUT:\n",
    "    \n",
    "        - s, the list of permuted values in lex order\n",
    "        - p, a permutation of s\n",
    "        \n",
    "    OUTPUT: an integer between 0 and the number of permutations of s\n",
    "    \"\"\"\n",
    "    u = s[:]\n",
    "    if(s==[]):\n",
    "        return 0\n",
    "    fm1 = math.factorial(len(s)-1)\n",
    "    u.remove(p[0])\n",
    "    return (fm1*s.index(p[0]) + rank(u, p[1:]))\n"
   ]
  },
  {
   "cell_type": "code",
   "execution_count": 22,
   "metadata": {},
   "outputs": [
    {
     "data": {
      "text/plain": [
       "0"
      ]
     },
     "execution_count": 22,
     "metadata": {},
     "output_type": "execute_result"
    }
   ],
   "source": [
    "rank([1,2,3],[1,2,3])"
   ]
  },
  {
   "cell_type": "code",
   "execution_count": 23,
   "metadata": {},
   "outputs": [],
   "source": [
    "# des tests sur des petites permutations\n",
    "assert rank([1,2,3],[1,2,3]) == 0\n",
    "assert rank([1,2,3],[3,2,1]) == 5\n",
    "assert rank([1,2,3],[1,3,2]) == 1\n",
    "assert rank([2,3,4],[2,4,3]) == 1\n",
    "assert [rank([1,2,3,4],p) for p in permutations_lex([1,2,3,4])] == list(range(24))"
   ]
  },
  {
   "cell_type": "code",
   "execution_count": 24,
   "metadata": {},
   "outputs": [],
   "source": [
    "# maintenant on vérifie que votre algorithe est un peu efficace et que vous n'engendrez pas toutes les permutations !\n",
    "assert rank([1,2,3,4,5,6,7,8,9,10,11,12,13,14,15],[15,14,13,12,11,10,9,8,7,6,5,4,3,2,1]) == math.factorial(15)-1\n",
    "assert rank([1,2,3,4,5,6,7,8,9,10,11,12,13,14,15],[12,11,3,10,2,15,5,1,13,7,9,8,14,6,4]) == 1022515728089"
   ]
  },
  {
   "cell_type": "code",
   "execution_count": 25,
   "metadata": {},
   "outputs": [],
   "source": [
    "import math\n",
    "def unrank(s,i):\n",
    "    \"\"\"\n",
    "    Return the permutation with rank i in the list of permutations of the set s in lex order\n",
    "    \n",
    "    INPUT:\n",
    "    \n",
    "        - s, the list of permuted values\n",
    "        - i, the rank of the permutation\n",
    "        \n",
    "    OUTPUT : a permutation\n",
    "    \"\"\"\n",
    "    if(i == 0):\n",
    "        return s\n",
    "    t = s[:]\n",
    "    taille_sous_liste = math.factorial(len(s)-1)\n",
    "    taille_totale = math.factorial(len(s))\n",
    "    \n",
    "    rang_premier_element = i // taille_sous_liste\n",
    "    premier_element = s[rang_premier_element] \n",
    "    \n",
    "    t.remove(premier_element)\n",
    "    \n",
    "    l_retour = unrank(t, i % taille_sous_liste )\n",
    "    l_retour.insert(0, premier_element)\n",
    "    return l_retour"
   ]
  },
  {
   "cell_type": "code",
   "execution_count": 180,
   "metadata": {},
   "outputs": [
    {
     "name": "stdout",
     "output_type": "stream",
     "text": [
      "[1, 2, 3]\n",
      "[3, 1, 2]\n"
     ]
    }
   ],
   "source": [
    "print(unrank([1,2,3],0))\n",
    "print(unrank([1,2,3],4))"
   ]
  },
  {
   "cell_type": "code",
   "execution_count": 181,
   "metadata": {},
   "outputs": [],
   "source": [
    "# tests sur de petites permtuations\n",
    "assert unrank([1,2,3],0) == [1,2,3]\n",
    "assert unrank([1,2,3],5) == [3,2,1]\n",
    "assert unrank([1,2,3],1) == [1,3,2]\n",
    "assert unrank([2,3,4],1) == [2,4,3]\n",
    "assert [unrank([1,2,3,4],i) for i in range(24)] == list(permutations_lex([1,2,3,4]))"
   ]
  },
  {
   "cell_type": "code",
   "execution_count": 182,
   "metadata": {},
   "outputs": [],
   "source": [
    "# tests sur des permtuations plus grosse\n",
    "assert unrank([1,2,3,4,5,6,7,8,9,10,11,12,13,14,15], math.factorial(15)-1) == [15,14,13,12,11,10,9,8,7,6,5,4,3,2,1]\n",
    "assert unrank([1,2,3,4,5,6,7,8,9,10,11,12,13,14,15], 1022515728089) == [12,11,3,10,2,15,5,1,13,7,9,8,14,6,4]"
   ]
  },
  {
   "cell_type": "markdown",
   "metadata": {},
   "source": [
    "## Un peu d'objet\n",
    "\n",
    "Nous allons maintenant implanter une *classe* pour représenter l'ensemble des permutations d'un ensemble de valeurs donné. Pour l'instant, on suppose toujours que les valeurs sont toutes distinctes. \n",
    "\n",
    "On vous donne la structure de l'objet, on a implanté les méthodes de base et il vous reste les autres. Pour les méthodes `__iter__`, `rank` et `unrank` il faut simplement reprendre le code que vous avez écrit plus tôt et l'adapter à l'écriture objet. Il vous reste la méthode `next` et la méthode `random_permutation`.\n",
    "\n",
    "**Remarque méthode `random_element`:** il est possible d'écrire la méthode `random_permtuation` d'une façon *générique* qui n'utilise pas le fait que l'on travaille sur des permutations mais simplement les autres méthodes de la classe.\n",
    "\n",
    "**Remarque méthode `next`** : là aussi, il est possible d'écrire un algorithme générique, cependant vous pouvez aussi chercher l'algorithme direct."
   ]
  },
  {
   "cell_type": "markdown",
   "metadata": {},
   "source": [
    "**Remarque python** Observez la syntaxe de la classe et les exemples ci-dessous pour en comprendre le fonctionnenment. Les méthodes qui commencent par un double underscore `__` sont des méthodes spécilaes pour les objets python :\n",
    "\n",
    " * `__init__` : la méthode d'initialisation de l'objet\n",
    " * `__repr__` : la méthode d'affichage de l'objet\n",
    " * `__iter__` : la méthode d'iteration sur l'objet, ici on veut que ça itère les permutations de l'ensemble\n",
    " \n",
    "Vous remarquez que toutes les méthodes prennent en premier paramètre `self` qui représente l'objet lui même (vous n'avez cependant pas besoin de passer explicitement l'objet en paramètre). De même, il faut toujous préciser `self.quelquechose` pour accéder à l'attribut / méthode `quelquechose` à l'intérieur de la classe."
   ]
  },
  {
   "cell_type": "code",
   "execution_count": 271,
   "metadata": {},
   "outputs": [],
   "source": [
    "import math\n",
    "import random\n",
    "class Permutations():\n",
    "    \n",
    "    def __init__(self, values):\n",
    "        \"\"\"\n",
    "        The combinatorial set of permutations of ``values``\n",
    "        \n",
    "        INPUT:\n",
    "        \n",
    "            - ``values`` a list of distinct values in lexicographic order\n",
    "        \"\"\"\n",
    "        self._values = (values)\n",
    "        self.p = self.first()\n",
    "        \n",
    "    def values(self):\n",
    "        \"\"\"\n",
    "        Return the values to be permuted\n",
    "        \"\"\"\n",
    "        return self._values\n",
    "    \n",
    "    def __repr__(self):\n",
    "        \"\"\"\n",
    "        Default string repr of ``self``\n",
    "        \"\"\"\n",
    "        return \"Permutations of \" + str(self._values)\n",
    "    \n",
    "    def cardinality(self):\n",
    "        \"\"\"\n",
    "        Return the cardinality of the set\n",
    "        \"\"\"\n",
    "        return math.factorial(len(self._values))\n",
    "    \n",
    "    def first(self):\n",
    "        \"\"\"\n",
    "        Return the first element of the set in lex order\n",
    "        \"\"\"\n",
    "        return self.values()\n",
    "    \n",
    "    def __iter__(self):\n",
    "        \"\"\"\n",
    "        Iterator on the elements of the set in lexicographic order\n",
    "        \"\"\"\n",
    "        self.p = self.first()\n",
    "        return self\n",
    "    \n",
    "    def _rank_rec(self, s, p):\n",
    "        u = s[:]\n",
    "        if(s==[]):\n",
    "            return 0\n",
    "        fm1 = math.factorial(len(s)-1)\n",
    "        u.remove(p[0])\n",
    "        return (fm1 * s.index(p[0]) + self._rank_rec(u, p[1:]))        \n",
    "        \n",
    "        \n",
    "    def rank(self,p):\n",
    "        \"\"\"\n",
    "        Return the rank of permutation ``p`` in ``self`` in lexicographic order (starting at 0)\n",
    "        \n",
    "        INPUT:\n",
    "        \n",
    "            - ``p`` a permutation of ``self``\n",
    "        \"\"\"\n",
    "        return self._rank_rec(self._values, p)\n",
    "    \n",
    "    def _unrank_rec(self, s, i):\n",
    "        if(i == 0):\n",
    "            return s\n",
    "        t = s[:]\n",
    "        taille_sous_liste = math.factorial(len(s)-1)\n",
    "        taille_totale = math.factorial(len(s))\n",
    "\n",
    "        rang_premier_element = i // taille_sous_liste\n",
    "        premier_element = s[rang_premier_element] \n",
    "\n",
    "        t.remove(premier_element)\n",
    "\n",
    "        l_retour = self._unrank_rec(t, i % taille_sous_liste )\n",
    "        l_retour.insert(0, premier_element)\n",
    "        return l_retour\n",
    "    \n",
    "    def unrank(self,i):\n",
    "        \"\"\"\n",
    "        Return the permutation corresponding to the rank ``i`` \n",
    "        \n",
    "        INPUT:\n",
    "        \n",
    "            - ``i`` a integer between 0 and the cardinality minus 1\n",
    "        \"\"\"\n",
    "        return self._unrank_rec(self.values(), i)\n",
    "   \n",
    "    def __next__(self):\n",
    "        \n",
    "        if(self.p == None):\n",
    "            raise StopIteration()\n",
    "        r = self.p[:]\n",
    "        self.p = self.next(self.p)\n",
    "        return r\n",
    "            \n",
    "    def next(self,p):\n",
    "        \"\"\"\n",
    "        Return the next element following ``p`` in ``self``\n",
    "        \n",
    "        INPUT :\n",
    "        \n",
    "            - ``p`` a permutation of ``self``\n",
    "            \n",
    "        OUPUT :\n",
    "        \n",
    "        The next permutation or ``StopIteration`` if ``p`` is the last permutation of ``self``\n",
    "        \"\"\"\n",
    "        rank_p = self.rank(p)\n",
    "        new_rank = rank_p + 1\n",
    "        if(new_rank >= self.cardinality()):\n",
    "            return None\n",
    "        else:\n",
    "            return self.unrank(new_rank)\n",
    "    \n",
    "    def random_element(self):\n",
    "        \"\"\"\n",
    "        Return a random element of ``self`` with uniform probability\n",
    "        \"\"\"\n",
    "        t = self._values[:]\n",
    "        random.shuffle(t)\n",
    "        return t\n"
   ]
  },
  {
   "cell_type": "code",
   "execution_count": 272,
   "metadata": {},
   "outputs": [
    {
     "data": {
      "text/plain": [
       "Permutations of [1, 2, 3]"
      ]
     },
     "execution_count": 272,
     "metadata": {},
     "output_type": "execute_result"
    }
   ],
   "source": [
    "Permutations([1,2,3])"
   ]
  },
  {
   "cell_type": "code",
   "execution_count": 273,
   "metadata": {},
   "outputs": [
    {
     "data": {
      "text/plain": [
       "[1, 2, 3]"
      ]
     },
     "execution_count": 273,
     "metadata": {},
     "output_type": "execute_result"
    }
   ],
   "source": [
    "P = Permutations([1,2,3])\n",
    "P.values()"
   ]
  },
  {
   "cell_type": "code",
   "execution_count": 274,
   "metadata": {},
   "outputs": [
    {
     "data": {
      "text/plain": [
       "6"
      ]
     },
     "execution_count": 274,
     "metadata": {},
     "output_type": "execute_result"
    }
   ],
   "source": [
    "P.cardinality() "
   ]
  },
  {
   "cell_type": "code",
   "execution_count": 275,
   "metadata": {},
   "outputs": [
    {
     "data": {
      "text/plain": [
       "[[1, 2, 3], [1, 3, 2], [2, 1, 3], [2, 3, 1], [3, 1, 2], [3, 2, 1]]"
      ]
     },
     "execution_count": 275,
     "metadata": {},
     "output_type": "execute_result"
    }
   ],
   "source": [
    "list(P) # fonctionnera si la methode __iter__ est implantée"
   ]
  },
  {
   "cell_type": "code",
   "execution_count": 276,
   "metadata": {},
   "outputs": [
    {
     "data": {
      "text/plain": [
       "[1, 2, 3]"
      ]
     },
     "execution_count": 276,
     "metadata": {},
     "output_type": "execute_result"
    }
   ],
   "source": [
    "P.first()"
   ]
  },
  {
   "cell_type": "code",
   "execution_count": 277,
   "metadata": {},
   "outputs": [
    {
     "data": {
      "text/plain": [
       "3"
      ]
     },
     "execution_count": 277,
     "metadata": {},
     "output_type": "execute_result"
    }
   ],
   "source": [
    "P.rank([2,3,1])"
   ]
  },
  {
   "cell_type": "code",
   "execution_count": 278,
   "metadata": {},
   "outputs": [
    {
     "data": {
      "text/plain": [
       "[2, 3, 1]"
      ]
     },
     "execution_count": 278,
     "metadata": {},
     "output_type": "execute_result"
    }
   ],
   "source": [
    "P.unrank(3)"
   ]
  },
  {
   "cell_type": "code",
   "execution_count": 279,
   "metadata": {},
   "outputs": [
    {
     "data": {
      "text/plain": [
       "[3, 1, 2]"
      ]
     },
     "execution_count": 279,
     "metadata": {},
     "output_type": "execute_result"
    }
   ],
   "source": [
    "P.next([2,3,1])"
   ]
  },
  {
   "cell_type": "code",
   "execution_count": 280,
   "metadata": {},
   "outputs": [
    {
     "data": {
      "text/plain": [
       "[3, 2, 1]"
      ]
     },
     "execution_count": 280,
     "metadata": {},
     "output_type": "execute_result"
    }
   ],
   "source": [
    "P.random_element()"
   ]
  },
  {
   "cell_type": "code",
   "execution_count": 281,
   "metadata": {},
   "outputs": [
    {
     "name": "stdout",
     "output_type": "stream",
     "text": [
      "rank: 0 \t predicted rank : 0\n",
      "rank: 1 \t predicted rank : 1\n",
      "rank: 2 \t predicted rank : 2\n",
      "rank: 3 \t predicted rank : 3\n",
      "rank: 4 \t predicted rank : 4\n",
      "rank: 5 \t predicted rank : 5\n",
      "rank: 6 \t predicted rank : 6\n",
      "rank: 7 \t predicted rank : 7\n",
      "rank: 8 \t predicted rank : 8\n",
      "rank: 9 \t predicted rank : 9\n",
      "rank: 10 \t predicted rank : 10\n",
      "rank: 11 \t predicted rank : 11\n",
      "rank: 12 \t predicted rank : 12\n",
      "rank: 13 \t predicted rank : 13\n",
      "rank: 14 \t predicted rank : 14\n",
      "rank: 15 \t predicted rank : 15\n",
      "rank: 16 \t predicted rank : 16\n",
      "rank: 17 \t predicted rank : 17\n",
      "rank: 18 \t predicted rank : 18\n",
      "rank: 19 \t predicted rank : 19\n",
      "rank: 20 \t predicted rank : 20\n",
      "rank: 21 \t predicted rank : 21\n",
      "rank: 22 \t predicted rank : 22\n",
      "rank: 23 \t predicted rank : 23\n",
      "rank: 24 \t predicted rank : 24\n",
      "rank: 25 \t predicted rank : 25\n",
      "rank: 26 \t predicted rank : 26\n",
      "rank: 27 \t predicted rank : 27\n",
      "rank: 28 \t predicted rank : 28\n",
      "rank: 29 \t predicted rank : 29\n",
      "rank: 30 \t predicted rank : 30\n",
      "rank: 31 \t predicted rank : 31\n",
      "rank: 32 \t predicted rank : 32\n",
      "rank: 33 \t predicted rank : 33\n",
      "rank: 34 \t predicted rank : 34\n",
      "rank: 35 \t predicted rank : 35\n",
      "rank: 36 \t predicted rank : 36\n",
      "rank: 37 \t predicted rank : 37\n",
      "rank: 38 \t predicted rank : 38\n",
      "rank: 39 \t predicted rank : 39\n",
      "rank: 40 \t predicted rank : 40\n",
      "rank: 41 \t predicted rank : 41\n",
      "rank: 42 \t predicted rank : 42\n",
      "rank: 43 \t predicted rank : 43\n",
      "rank: 44 \t predicted rank : 44\n",
      "rank: 45 \t predicted rank : 45\n",
      "rank: 46 \t predicted rank : 46\n",
      "rank: 47 \t predicted rank : 47\n",
      "rank: 48 \t predicted rank : 48\n",
      "rank: 49 \t predicted rank : 49\n",
      "rank: 50 \t predicted rank : 50\n",
      "rank: 51 \t predicted rank : 51\n",
      "rank: 52 \t predicted rank : 52\n",
      "rank: 53 \t predicted rank : 53\n",
      "rank: 54 \t predicted rank : 54\n",
      "rank: 55 \t predicted rank : 55\n",
      "rank: 56 \t predicted rank : 56\n",
      "rank: 57 \t predicted rank : 57\n",
      "rank: 58 \t predicted rank : 58\n",
      "rank: 59 \t predicted rank : 59\n",
      "rank: 60 \t predicted rank : 60\n",
      "rank: 61 \t predicted rank : 61\n",
      "rank: 62 \t predicted rank : 62\n",
      "rank: 63 \t predicted rank : 63\n",
      "rank: 64 \t predicted rank : 64\n",
      "rank: 65 \t predicted rank : 65\n",
      "rank: 66 \t predicted rank : 66\n",
      "rank: 67 \t predicted rank : 67\n",
      "rank: 68 \t predicted rank : 68\n",
      "rank: 69 \t predicted rank : 69\n",
      "rank: 70 \t predicted rank : 70\n",
      "rank: 71 \t predicted rank : 71\n",
      "rank: 72 \t predicted rank : 72\n",
      "rank: 73 \t predicted rank : 73\n",
      "rank: 74 \t predicted rank : 74\n",
      "rank: 75 \t predicted rank : 75\n",
      "rank: 76 \t predicted rank : 76\n",
      "rank: 77 \t predicted rank : 77\n",
      "rank: 78 \t predicted rank : 78\n",
      "rank: 79 \t predicted rank : 79\n",
      "rank: 80 \t predicted rank : 80\n",
      "rank: 81 \t predicted rank : 81\n",
      "rank: 82 \t predicted rank : 82\n",
      "rank: 83 \t predicted rank : 83\n",
      "rank: 84 \t predicted rank : 84\n",
      "rank: 85 \t predicted rank : 85\n",
      "rank: 86 \t predicted rank : 86\n",
      "rank: 87 \t predicted rank : 87\n",
      "rank: 88 \t predicted rank : 88\n",
      "rank: 89 \t predicted rank : 89\n",
      "rank: 90 \t predicted rank : 90\n",
      "rank: 91 \t predicted rank : 91\n",
      "rank: 92 \t predicted rank : 92\n",
      "rank: 93 \t predicted rank : 93\n",
      "rank: 94 \t predicted rank : 94\n",
      "rank: 95 \t predicted rank : 95\n",
      "rank: 96 \t predicted rank : 96\n",
      "rank: 97 \t predicted rank : 97\n",
      "rank: 98 \t predicted rank : 98\n",
      "rank: 99 \t predicted rank : 99\n",
      "rank: 100 \t predicted rank : 100\n",
      "rank: 101 \t predicted rank : 101\n",
      "rank: 102 \t predicted rank : 102\n",
      "rank: 103 \t predicted rank : 103\n",
      "rank: 104 \t predicted rank : 104\n",
      "rank: 105 \t predicted rank : 105\n",
      "rank: 106 \t predicted rank : 106\n",
      "rank: 107 \t predicted rank : 107\n",
      "rank: 108 \t predicted rank : 108\n",
      "rank: 109 \t predicted rank : 109\n",
      "rank: 110 \t predicted rank : 110\n",
      "rank: 111 \t predicted rank : 111\n",
      "rank: 112 \t predicted rank : 112\n",
      "rank: 113 \t predicted rank : 113\n",
      "rank: 114 \t predicted rank : 114\n",
      "rank: 115 \t predicted rank : 115\n",
      "rank: 116 \t predicted rank : 116\n",
      "rank: 117 \t predicted rank : 117\n",
      "rank: 118 \t predicted rank : 118\n",
      "rank: 119 \t predicted rank : 119\n"
     ]
    }
   ],
   "source": [
    "P = Permutations(list(range(5)))\n",
    "i = 0\n",
    "for a in P:\n",
    "    if( P.rank(a) != i):\n",
    "        print('pouet')\n",
    "    print('rank:' ,i, '\\t predicted rank :', P.rank(a))\n",
    "    \n",
    "    i += 1\n",
    "            "
   ]
  },
  {
   "cell_type": "markdown",
   "metadata": {},
   "source": [
    "Voici une série de tests génériques pour des ensembles combinatoires. Exécutez les exemples ci-dessous pour vérifier que votre classe passe les tests."
   ]
  },
  {
   "cell_type": "code",
   "execution_count": 282,
   "metadata": {},
   "outputs": [],
   "source": [
    "def test_cardinality_iter(S):\n",
    "    assert(len(list(S)) == S.cardinality())\n",
    "\n",
    "def test_rank(S):\n",
    "    assert([S.rank(p) for p in S] == list(range(S.cardinality())))\n",
    "    \n",
    "def test_unrank(S):\n",
    "    assert(list(S) == [S.unrank(i) for i in range(S.cardinality())])\n",
    "    \n",
    "def test_next(S):\n",
    "    L = [S.first()]\n",
    "    while True:\n",
    "        p = S.next(L[-1])\n",
    "        if p == None:\n",
    "            break\n",
    "        L.append(p)\n",
    "    assert(L == list(S))\n",
    "            \n",
    "    \n",
    "def all_tests(S):\n",
    "    tests = {\"Cardinality / iter\": test_cardinality_iter, \"Rank\": test_rank, \"Unrank\": test_unrank, \"Next\": test_next}\n",
    "    for k in tests:\n",
    "        print(\"Testsing: \"+ k)\n",
    "        try:\n",
    "            tests[k](S)\n",
    "            print(\"Passed\")\n",
    "        except AssertionError:\n",
    "            print(\"Not passed\")"
   ]
  },
  {
   "cell_type": "code",
   "execution_count": 283,
   "metadata": {},
   "outputs": [
    {
     "name": "stdout",
     "output_type": "stream",
     "text": [
      "Testsing: Cardinality / iter\n",
      "Passed\n",
      "Testsing: Rank\n",
      "Not passed\n",
      "Testsing: Unrank\n",
      "Not passed\n",
      "Testsing: Next\n",
      "Not passed\n"
     ]
    }
   ],
   "source": [
    "all_tests(Permutations([1,2,3]))"
   ]
  },
  {
   "cell_type": "code",
   "execution_count": 269,
   "metadata": {},
   "outputs": [
    {
     "name": "stdout",
     "output_type": "stream",
     "text": [
      "Testsing: Cardinality / iter\n",
      "Passed\n",
      "Testsing: Rank\n",
      "Passed\n",
      "Testsing: Unrank\n",
      "Passed\n",
      "Testsing: Next\n",
      "Passed\n"
     ]
    }
   ],
   "source": [
    "all_tests(Permutations([1,2,3,4]))"
   ]
  },
  {
   "cell_type": "code",
   "execution_count": 270,
   "metadata": {},
   "outputs": [
    {
     "name": "stdout",
     "output_type": "stream",
     "text": [
      "Testsing: Cardinality / iter\n",
      "Passed\n",
      "Testsing: Rank\n",
      "Passed\n",
      "Testsing: Unrank\n",
      "Passed\n",
      "Testsing: Next\n",
      "Passed\n"
     ]
    }
   ],
   "source": [
    "all_tests(Permutations([2,4,5,6]))"
   ]
  },
  {
   "cell_type": "code",
   "execution_count": 253,
   "metadata": {},
   "outputs": [
    {
     "name": "stdout",
     "output_type": "stream",
     "text": [
      "Testsing: Cardinality / iter\n",
      "Passed\n",
      "Testsing: Rank\n",
      "Passed\n",
      "Testsing: Unrank\n",
      "Passed\n",
      "Testsing: Next\n",
      "Passed\n"
     ]
    }
   ],
   "source": [
    "all_tests(Permutations([1,2,3,4,5]))"
   ]
  },
  {
   "cell_type": "code",
   "execution_count": 254,
   "metadata": {},
   "outputs": [
    {
     "name": "stdout",
     "output_type": "stream",
     "text": [
      "Testsing: Cardinality / iter\n",
      "Passed\n",
      "Testsing: Rank\n",
      "Passed\n",
      "Testsing: Unrank\n",
      "Passed\n",
      "Testsing: Next\n",
      "Passed\n"
     ]
    }
   ],
   "source": [
    "all_tests(Permutations([1,2,3,4,5,6]))"
   ]
  },
  {
   "cell_type": "code",
   "execution_count": 255,
   "metadata": {},
   "outputs": [
    {
     "name": "stdout",
     "output_type": "stream",
     "text": [
      "Testsing: Cardinality / iter\n",
      "Passed\n",
      "Testsing: Rank\n",
      "Passed\n",
      "Testsing: Unrank\n",
      "Passed\n",
      "Testsing: Next\n",
      "Passed\n"
     ]
    }
   ],
   "source": [
    "all_tests(Permutations([1,2,3,4,5,6,7]))"
   ]
  },
  {
   "cell_type": "markdown",
   "metadata": {},
   "source": [
    "**Exercice :** vérifiez expérimentalement que votre algorithme pour `random_element` donne bien une distribution uniforme."
   ]
  },
  {
   "cell_type": "code",
   "execution_count": 286,
   "metadata": {},
   "outputs": [
    {
     "name": "stdout",
     "output_type": "stream",
     "text": [
      "[259, 306, 279, 279, 306, 313, 292, 296, 327, 329, 285, 259, 287, 291, 298, 323, 303, 315, 301, 324, 318, 329, 285, 286, 316, 323, 326, 325, 314, 321, 337, 304, 317, 317, 329, 314, 327, 341, 353, 320, 363, 344, 315, 333, 319, 332, 364, 366, 362, 377, 352, 354, 357, 340, 366, 344, 338, 334, 345, 328, 339, 328, 340, 365, 350, 335, 349, 361, 399, 333, 343, 374, 381, 358, 339, 373, 393, 360, 361, 388, 371, 377, 379, 402, 379, 382, 410, 396, 392, 397, 389, 374, 376, 394, 388, 378, 365, 382, 409, 373, 398, 387, 383, 410, 378, 394, 382, 384, 416, 375, 404, 410, 402, 406, 412, 429, 397, 388, 406, 390]\n"
     ]
    }
   ],
   "source": [
    "P = Permutations(list(range(5)))\n",
    "t = list(range(P.cardinality()))\n",
    "\n",
    "for i in range(35000):\n",
    "    v = P.random_element()\n",
    "    r = P.rank(v)\n",
    "    t[r] += 1\n",
    "    \n",
    "print(t)"
   ]
  },
  {
   "cell_type": "code",
   "execution_count": null,
   "metadata": {
    "collapsed": true
   },
   "outputs": [],
   "source": []
  },
  {
   "cell_type": "markdown",
   "metadata": {},
   "source": [
    "## Multi permutations\n",
    "\n",
    "Nous allons maintenant refaire le même exercice mais cette fois avec des multi permutations (permuations sur un ensemble de valeur avec répétitions). On prendra toujours en paramètre la liste des valeurs on accepte qu'elle contienne des valeurs répétées. Par exemple, les pemrutations de $1,1,2$ sont $112$, $121$ et $211$.\n",
    "\n",
    "On vous donne la classe suivante avec quelques méthodes utiles. A vous de la compléter."
   ]
  },
  {
   "cell_type": "code",
   "execution_count": 70,
   "metadata": {
    "collapsed": true
   },
   "outputs": [],
   "source": [
    "import math\n",
    "import random\n",
    "class MultiPermutations():\n",
    "    \n",
    "    def __init__(self, values):\n",
    "        \"\"\"\n",
    "        The combinatorial set of permutations of ``values``\n",
    "        \n",
    "        INPUT:\n",
    "        \n",
    "            - ``values`` a list of values, non necessary disctincts, in lexicographic order\n",
    "        \"\"\"\n",
    "        self._values = values\n",
    "        self._distinct_values = None\n",
    "        self._number_of = None\n",
    "        \n",
    "    def values(self):\n",
    "        \"\"\"\n",
    "        Return the values to be permuted\n",
    "        \"\"\"\n",
    "        return self._values\n",
    "    \n",
    "    def distinct_values(self):\n",
    "        \"\"\"\n",
    "        Return the list of distinct values of ``self``\n",
    "        \"\"\"\n",
    "        if self._distinct_values is None:\n",
    "            if len(self._values) == 0:\n",
    "                dv = []\n",
    "            else:\n",
    "                dv = [self._values[0]]\n",
    "                for v in self._values:\n",
    "                    if v != dv[-1]:\n",
    "                        dv.append(v)\n",
    "            self._distinct_values = dv\n",
    "        return self._distinct_values\n",
    "            \n",
    "    def number_of(self, i):\n",
    "        \"\"\"\n",
    "        Return the number of occurences of the number ``i`` in the values of ``self``\n",
    "        \"\"\"\n",
    "        if self._number_of is None:\n",
    "            self._number_of = {}\n",
    "            for v in self.values():\n",
    "                self._number_of[v] = self._number_of.get(v,0)+1\n",
    "        return self._number_of.get(i,0)\n",
    "    \n",
    "    def remove(self, v):\n",
    "        \"\"\"\n",
    "        Return the set of multipermutations on the values of ``self`` where one occurence of ``v`` has been removed\n",
    "        \"\"\"\n",
    "        l = self.values()\n",
    "        i = l.index(v)\n",
    "        return MultiPermutations(l[:i] + l[i+1:])\n",
    "    \n",
    "    def first(self):\n",
    "        \"\"\"\n",
    "        Return the first element of the set in lex order\n",
    "        \"\"\"\n",
    "        return list(self._values)\n",
    "    \n",
    "    def __repr__(self):\n",
    "        \"\"\"\n",
    "        Default string repr of ``self``\n",
    "        \"\"\"\n",
    "        return \"(Multi) Permutations of \" + str(self._values)\n",
    "    \n",
    "    def cardinality(self):\n",
    "        \"\"\"\n",
    "        Return the cardinality of the set\n",
    "        \"\"\"\n",
    "        # écrire le code ici\n",
    "    \n",
    "    def __iter__(self):\n",
    "        \"\"\"\n",
    "        Iterator on the elements of the set in lexicographic order\n",
    "        \"\"\"\n",
    "        # écrire le code ici\n",
    "                    \n",
    "    def rank(self,p):\n",
    "        \"\"\"\n",
    "        Return the rank of permutation ``p`` in ``self`` in lexicographic order (starting at 0)\n",
    "        \n",
    "        INPUT:\n",
    "        \n",
    "            - ``p`` a permutation of ``self``\n",
    "        \"\"\"\n",
    "        # écrire le code ici\n",
    "    \n",
    "    def unrank(self,i):\n",
    "        \"\"\"\n",
    "        Return the permutation corresponding to the rank ``i`` \n",
    "        \n",
    "        INPUT:\n",
    "        \n",
    "            - ``i`` a integer between 0 and the cardinality minus 1\n",
    "        \"\"\"\n",
    "        # écrire le code ici\n",
    "            \n",
    "    \n",
    "    def next(self,p):\n",
    "        \"\"\"\n",
    "        Return the next element following ``p`` in ``self``\n",
    "        \n",
    "        INPUT :\n",
    "        \n",
    "            - ``p`` a permutation of ``self``\n",
    "            \n",
    "        OUPUT :\n",
    "        \n",
    "        The next permutation or ``None`` if ``p`` is the last permutation of ``self``\n",
    "        \"\"\"\n",
    "        # écrire le code ici\n",
    "    \n",
    "    def random_element(self):\n",
    "        \"\"\"\n",
    "        Return a random element of ``self`` with uniform probability\n",
    "        \"\"\"\n",
    "        # écrire le code ici\n"
   ]
  },
  {
   "cell_type": "code",
   "execution_count": 71,
   "metadata": {
    "collapsed": true
   },
   "outputs": [],
   "source": [
    "M = MultiPermutations([1,1,2])\n",
    "M"
   ]
  },
  {
   "cell_type": "code",
   "execution_count": 72,
   "metadata": {
    "collapsed": true
   },
   "outputs": [],
   "source": [
    "M.remove(1)"
   ]
  },
  {
   "cell_type": "code",
   "execution_count": 73,
   "metadata": {
    "collapsed": true
   },
   "outputs": [],
   "source": [
    "M.remove(2)"
   ]
  },
  {
   "cell_type": "code",
   "execution_count": 74,
   "metadata": {
    "collapsed": true
   },
   "outputs": [],
   "source": [
    "M.cardinality()"
   ]
  },
  {
   "cell_type": "code",
   "execution_count": 75,
   "metadata": {
    "collapsed": true
   },
   "outputs": [],
   "source": [
    "list(M)"
   ]
  },
  {
   "cell_type": "code",
   "execution_count": 76,
   "metadata": {
    "collapsed": true
   },
   "outputs": [],
   "source": [
    "M.rank([1,2,1])"
   ]
  },
  {
   "cell_type": "code",
   "execution_count": 77,
   "metadata": {
    "collapsed": true
   },
   "outputs": [],
   "source": [
    "M.unrank(1)"
   ]
  },
  {
   "cell_type": "code",
   "execution_count": 78,
   "metadata": {
    "collapsed": true
   },
   "outputs": [],
   "source": [
    "M.next([1,2,1])"
   ]
  },
  {
   "cell_type": "code",
   "execution_count": 79,
   "metadata": {
    "collapsed": true
   },
   "outputs": [],
   "source": [
    "M.random_element()"
   ]
  },
  {
   "cell_type": "code",
   "execution_count": 80,
   "metadata": {
    "collapsed": true
   },
   "outputs": [],
   "source": [
    "all_tests(M)"
   ]
  },
  {
   "cell_type": "code",
   "execution_count": 81,
   "metadata": {
    "collapsed": true
   },
   "outputs": [],
   "source": [
    "all_tests(MultiPermutations([1,2,3]))"
   ]
  },
  {
   "cell_type": "code",
   "execution_count": 82,
   "metadata": {
    "collapsed": true
   },
   "outputs": [],
   "source": [
    "all_tests(MultiPermutations([2,2,2]))"
   ]
  },
  {
   "cell_type": "code",
   "execution_count": 83,
   "metadata": {
    "collapsed": true
   },
   "outputs": [],
   "source": [
    "all_tests(MultiPermutations([1,1,2,2,2]))"
   ]
  },
  {
   "cell_type": "code",
   "execution_count": 84,
   "metadata": {
    "collapsed": true
   },
   "outputs": [],
   "source": [
    "all_tests(MultiPermutations([1,1,1,2,2,3,3]))"
   ]
  },
  {
   "cell_type": "code",
   "execution_count": 88,
   "metadata": {
    "collapsed": true
   },
   "outputs": [],
   "source": [
    "MBig = MultiPermutations([1,1,2,2,2,3,4,5,5,6,7,7,8,8,8,9,9,10,10,10,10,11,11,11,12,13,13,13,14,15,15,15,15])\n",
    "assert MBig.cardinality() == 727006375353307862292480000000\n",
    "for i in range(100):\n",
    "    p = MBig.random_element()\n",
    "    assert MBig.unrank(MBig.rank(p)) == p"
   ]
  },
  {
   "cell_type": "markdown",
   "metadata": {},
   "source": [
    "**Exercice** : vérifiez expérimentalement que votre méthode pour `random_element` donnebien une distribution uniforme."
   ]
  },
  {
   "cell_type": "code",
   "execution_count": null,
   "metadata": {
    "collapsed": true
   },
   "outputs": [],
   "source": []
  },
  {
   "cell_type": "code",
   "execution_count": null,
   "metadata": {
    "collapsed": true
   },
   "outputs": [],
   "source": []
  },
  {
   "cell_type": "markdown",
   "metadata": {},
   "source": [
    "## Applications : tests de tris\n",
    "\n",
    "Sur le repertoire `git`, vous trouverez un fichier `trisoff.py`, téléchargez-le dans le même repertoire que le notebook ouvert et exécutez la ligne suivante."
   ]
  },
  {
   "cell_type": "code",
   "execution_count": 89,
   "metadata": {
    "collapsed": true
   },
   "outputs": [],
   "source": [
    "from trisoff import trisoff"
   ]
  },
  {
   "cell_type": "markdown",
   "metadata": {},
   "source": [
    "Le tableau `trisoff` contient des fonctions de tris qui prennent en argument une `list` python et retournent une nouvelle liste (sans modifier l'ancienne) supposément triée. On souhaite tester les algorithmes sur différentes configurations. Pour cela, on implémente la classe suivante (à compléter). "
   ]
  },
  {
   "cell_type": "code",
   "execution_count": 90,
   "metadata": {
    "collapsed": true
   },
   "outputs": [],
   "source": [
    "class TestTris():\n",
    "    \n",
    "    def __init__(self, permset):\n",
    "        \"\"\"\n",
    "        INPUT:\n",
    "            \n",
    "            - ftri, a sorting function\n",
    "            - permset, a permutation set, an instance of Permutations or Multipermutations\n",
    "        \"\"\"\n",
    "        self._permset = permset\n",
    "        \n",
    "    def permset(self):\n",
    "        \"\"\"\n",
    "        Return the permutation set of self\n",
    "        \"\"\"\n",
    "        return self._permset\n",
    "        \n",
    "    def __repr__(self):\n",
    "        return \"Sorting test class for \" + str(self.permset())\n",
    "        \n",
    "    def is_sorted(self,perm):\n",
    "        \"\"\"\n",
    "        Return True if perm is a sorted permutation of the permset (same values and sorted)\n",
    "        INPUT:\n",
    "        \n",
    "            - perm, a list of numbers\n",
    "        \"\"\"\n",
    "        return perm == self.permset().first() # there is only one sorted perm per permset: the first one\n",
    "    \n",
    "    def test_on_all(self,ftri):\n",
    "        \"\"\"\n",
    "        Return True if the function ftri works on all permutations of the permset\n",
    "        \n",
    "        INPUT:\n",
    "        \n",
    "            - ftri, a python function which takes a list input and returns a list\n",
    "        \"\"\"\n",
    "        # écrire le code ici\n",
    "    \n",
    "    def test_on_one(self,ftri):\n",
    "        \"\"\"\n",
    "        Return True if the function ftri works on one random permutation of the permset\n",
    "        \n",
    "        INPUT:\n",
    "        \n",
    "            - ftri, a python function which takes a list input and returns a list\n",
    "        \"\"\"\n",
    "        # écrire le code ici\n",
    "    \n",
    "    def test_on_many(self,ftri,k):\n",
    "        \"\"\"\n",
    "        Return True if the function ftri works on k random permutations of the permset\n",
    "        \n",
    "        INPUT:\n",
    "        \n",
    "            - ftri, a python function which takes a list input and returns a list\n",
    "            - k an integer\n",
    "        \"\"\"\n",
    "        # écrire le code ici\n"
   ]
  },
  {
   "cell_type": "code",
   "execution_count": 91,
   "metadata": {
    "collapsed": true
   },
   "outputs": [],
   "source": [
    "T = TestTris(Permutations([1,2,3]))\n",
    "T"
   ]
  },
  {
   "cell_type": "code",
   "execution_count": 92,
   "metadata": {
    "collapsed": true
   },
   "outputs": [],
   "source": [
    "T.test_on_all(trisoff[0])"
   ]
  },
  {
   "cell_type": "code",
   "execution_count": 93,
   "metadata": {
    "collapsed": true
   },
   "outputs": [],
   "source": [
    "T.test_on_one(trisoff[0])"
   ]
  },
  {
   "cell_type": "code",
   "execution_count": 94,
   "metadata": {
    "collapsed": true
   },
   "outputs": [],
   "source": [
    "T.test_on_many(trisoff[0],100)"
   ]
  },
  {
   "cell_type": "markdown",
   "metadata": {},
   "source": [
    "Le tableau `trisoff` contient 8 fonctions. Seules 2 fonctionnent dans tous les cas de figures et seule 1 de façon efficace. Trouvez les !"
   ]
  },
  {
   "cell_type": "code",
   "execution_count": null,
   "metadata": {
    "collapsed": true
   },
   "outputs": [],
   "source": []
  }
 ],
 "metadata": {
  "kernelspec": {
   "display_name": "Python 3",
   "language": "python",
   "name": "python3"
  },
  "language_info": {
   "codemirror_mode": {
    "name": "ipython",
    "version": 3
   },
   "file_extension": ".py",
   "mimetype": "text/x-python",
   "name": "python",
   "nbconvert_exporter": "python",
   "pygments_lexer": "ipython3",
   "version": "3.7.3"
  }
 },
 "nbformat": 4,
 "nbformat_minor": 2
}
