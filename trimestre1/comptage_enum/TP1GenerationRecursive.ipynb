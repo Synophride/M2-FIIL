{
 "cells": [
  {
   "cell_type": "markdown",
   "metadata": {},
   "source": [
    "# Génération récursive\n",
    "\n",
    "Ce TP est une introduction à la notion de génération récursive d'objets combinatoires.\n",
    "\n",
    "## Le Yield python\n",
    "\n",
    "Cette section est une introduction à la notion de générateurs en Python qui nous sera utilie par la suite. \n",
    "\n",
    "Vous avez vu en cours le principe d'un *générateur*. Le langage python possède une instruction très pratique pour créer des générateurs : *yield*."
   ]
  },
  {
   "cell_type": "code",
   "execution_count": 8,
   "metadata": {},
   "outputs": [],
   "source": [
    "def stupid_generator(end):\n",
    "    i = 0\n",
    "    while i < end:\n",
    "        yield i\n",
    "        i+=1"
   ]
  },
  {
   "cell_type": "code",
   "execution_count": 9,
   "metadata": {},
   "outputs": [
    {
     "data": {
      "text/plain": [
       "<generator object stupid_generator at 0x7f1aa8f824f8>"
      ]
     },
     "execution_count": 9,
     "metadata": {},
     "output_type": "execute_result"
    }
   ],
   "source": [
    "stupid_generator(3)"
   ]
  },
  {
   "cell_type": "markdown",
   "metadata": {},
   "source": [
    "Le but de la fonction *stupid_generator* est de lister les entiers inférieurs à *end*. Cependant, elle ne retourne pas directement la liste mais un générateur sur cette liste. Comparez avec la fonction suivante :"
   ]
  },
  {
   "cell_type": "code",
   "execution_count": 10,
   "metadata": {},
   "outputs": [],
   "source": [
    "def stupid_list(end):\n",
    "    i = 0\n",
    "    result = []\n",
    "    while i < end:\n",
    "        result.append(i)\n",
    "        i+=1\n",
    "    return result"
   ]
  },
  {
   "cell_type": "code",
   "execution_count": 11,
   "metadata": {},
   "outputs": [
    {
     "data": {
      "text/plain": [
       "[0, 1, 2]"
      ]
     },
     "execution_count": 11,
     "metadata": {},
     "output_type": "execute_result"
    }
   ],
   "source": [
    "stupid_list(3)"
   ]
  },
  {
   "cell_type": "markdown",
   "metadata": {},
   "source": [
    "Pour récupérer les objets de *stupid_generator*, il faut le transformer explicitement en liste ou alors parcourir les objets à travers une boucle."
   ]
  },
  {
   "cell_type": "code",
   "execution_count": 12,
   "metadata": {},
   "outputs": [],
   "source": [
    "it = stupid_generator(3)"
   ]
  },
  {
   "cell_type": "code",
   "execution_count": 13,
   "metadata": {},
   "outputs": [
    {
     "data": {
      "text/plain": [
       "0"
      ]
     },
     "execution_count": 13,
     "metadata": {},
     "output_type": "execute_result"
    }
   ],
   "source": [
    "next(it)"
   ]
  },
  {
   "cell_type": "code",
   "execution_count": 14,
   "metadata": {},
   "outputs": [
    {
     "data": {
      "text/plain": [
       "[0, 1, 2]"
      ]
     },
     "execution_count": 14,
     "metadata": {},
     "output_type": "execute_result"
    }
   ],
   "source": [
    "list(stupid_generator(3))"
   ]
  },
  {
   "cell_type": "code",
   "execution_count": 15,
   "metadata": {},
   "outputs": [
    {
     "name": "stdout",
     "output_type": "stream",
     "text": [
      "0\n",
      "1\n",
      "2\n"
     ]
    }
   ],
   "source": [
    "for v in stupid_generator(3):\n",
    "    print(v)"
   ]
  },
  {
   "cell_type": "markdown",
   "metadata": {},
   "source": [
    "**Remarque :** les instructions de *stupid_generator* ne sont pas exécutées lors de l'appel initial de la fonction mais seulement lorsque l'on commence à parcourir le générateur pour récupérer le premier objet. L'instruction `yield` stoppe alors l'exécution et retourne le premier objet. Si l'on demande un deuxième objet, l'exécution sera reprise là où elle a été arrétée."
   ]
  },
  {
   "cell_type": "code",
   "execution_count": 16,
   "metadata": {},
   "outputs": [],
   "source": [
    "def test_generator():\n",
    "    print(\"Cette instruction est exécutée lors de l'appel du premier objet\")\n",
    "    yield 1\n",
    "    print(\"Cette instruction est exécutée lors de l'appel du deuxième objet\")\n",
    "    yield 2\n",
    "    print(\"Cette instruction est exécutée lors de l'appel du troisième objet\")\n",
    "    yield 3"
   ]
  },
  {
   "cell_type": "code",
   "execution_count": 17,
   "metadata": {},
   "outputs": [],
   "source": [
    "it = test_generator()"
   ]
  },
  {
   "cell_type": "code",
   "execution_count": 18,
   "metadata": {},
   "outputs": [
    {
     "name": "stdout",
     "output_type": "stream",
     "text": [
      "Cette instruction est exécutée lors de l'appel du premier objet\n"
     ]
    },
    {
     "data": {
      "text/plain": [
       "1"
      ]
     },
     "execution_count": 18,
     "metadata": {},
     "output_type": "execute_result"
    }
   ],
   "source": [
    "next(it)"
   ]
  },
  {
   "cell_type": "code",
   "execution_count": 19,
   "metadata": {},
   "outputs": [
    {
     "name": "stdout",
     "output_type": "stream",
     "text": [
      "Cette instruction est exécutée lors de l'appel du deuxième objet\n"
     ]
    },
    {
     "data": {
      "text/plain": [
       "2"
      ]
     },
     "execution_count": 19,
     "metadata": {},
     "output_type": "execute_result"
    }
   ],
   "source": [
    "next(it)"
   ]
  },
  {
   "cell_type": "code",
   "execution_count": 20,
   "metadata": {},
   "outputs": [
    {
     "name": "stdout",
     "output_type": "stream",
     "text": [
      "Cette instruction est exécutée lors de l'appel du troisième objet\n"
     ]
    },
    {
     "data": {
      "text/plain": [
       "3"
      ]
     },
     "execution_count": 20,
     "metadata": {},
     "output_type": "execute_result"
    }
   ],
   "source": [
    "next(it)"
   ]
  },
  {
   "cell_type": "code",
   "execution_count": 21,
   "metadata": {},
   "outputs": [
    {
     "ename": "StopIteration",
     "evalue": "",
     "output_type": "error",
     "traceback": [
      "\u001b[0;31m---------------------------------------------------------------------------\u001b[0m",
      "\u001b[0;31mStopIteration\u001b[0m                             Traceback (most recent call last)",
      "\u001b[0;32m<ipython-input-21-863007809931>\u001b[0m in \u001b[0;36m<module>\u001b[0;34m\u001b[0m\n\u001b[0;32m----> 1\u001b[0;31m \u001b[0mnext\u001b[0m\u001b[0;34m(\u001b[0m\u001b[0mit\u001b[0m\u001b[0;34m)\u001b[0m \u001b[0;31m# l'appel de next sur un générateur terminé lève une exception\u001b[0m\u001b[0;34m\u001b[0m\u001b[0;34m\u001b[0m\u001b[0m\n\u001b[0m",
      "\u001b[0;31mStopIteration\u001b[0m: "
     ]
    }
   ],
   "source": [
    "next(it) # l'appel de next sur un générateur terminé lève une exception"
   ]
  },
  {
   "cell_type": "markdown",
   "metadata": {},
   "source": [
    "**Exercice : implanter la fonction suivante dont le but est d'engendrer les n premiers nombre de Fibonacci**.\n",
    "\n",
    "La suite de fibonacci est définie par :\n",
    "\n",
    "$f_0 = 1$\n",
    "\n",
    "$f_1 = 1$\n",
    "\n",
    "$f_n = f_{n-1} + f_{n-2}$ pour $n \\geq 2$.\n",
    "\n",
    "Remarques :\n",
    "\n",
    "* La fonction doit renvoyer *l'ensemble* des nombres de Fibonacci, pas seulement le dernier.\n",
    "* Pour cette raison (et pour d'autres), une version itérative est largement préférable à une récursive. Ne vous inquiétez pas, on fera plein de récursivité après !\n",
    "* Vous n'avez pas non non plus besoin d'un tableau pour stocker toute la suite, 3 variables sont suffisantes."
   ]
  },
  {
   "cell_type": "code",
   "execution_count": 2,
   "metadata": {},
   "outputs": [],
   "source": [
    "def first_fibonacci_generator(n):\n",
    "    \"\"\"\n",
    "    Return a generator for the first ``n`` Fibonacci numbers\n",
    "    \"\"\"\n",
    "    i = 0\n",
    "    c  = 1\n",
    "    m1 = 0\n",
    "    \n",
    "    while(i < n):\n",
    "        yield c\n",
    "        temp = c\n",
    "        c  = c + m1\n",
    "        m1 = temp\n",
    "        i+=1\n",
    "    \n",
    "    "
   ]
  },
  {
   "cell_type": "code",
   "execution_count": 3,
   "metadata": {},
   "outputs": [
    {
     "data": {
      "text/plain": [
       "<generator object first_fibonacci_generator at 0x7fc5d841c390>"
      ]
     },
     "execution_count": 3,
     "metadata": {},
     "output_type": "execute_result"
    }
   ],
   "source": [
    "it = first_fibonacci_generator(5)\n",
    "it"
   ]
  },
  {
   "cell_type": "code",
   "execution_count": 4,
   "metadata": {},
   "outputs": [
    {
     "data": {
      "text/plain": [
       "1"
      ]
     },
     "execution_count": 4,
     "metadata": {},
     "output_type": "execute_result"
    }
   ],
   "source": [
    "next(it)"
   ]
  },
  {
   "cell_type": "markdown",
   "metadata": {},
   "source": [
    "Votre fonction doit passer les tests suivants :"
   ]
  },
  {
   "cell_type": "code",
   "execution_count": 5,
   "metadata": {},
   "outputs": [],
   "source": [
    "import types\n",
    "assert type(first_fibonacci_generator(3)) == types.GeneratorType\n",
    "assert list(first_fibonacci_generator(0)) == []\n",
    "assert list(first_fibonacci_generator(1)) == [1]\n",
    "assert list(first_fibonacci_generator(2)) == [1,1]\n",
    "assert list(first_fibonacci_generator(8)) == [1,1,2,3,5,8,13,21]"
   ]
  },
  {
   "cell_type": "markdown",
   "metadata": {},
   "source": [
    "Dans les cas précédent, le générateur s'arrête de lui même au bout d'un certain temps. Cependant, il est aussi possible d'écrire des générateurs infinis. Dans ce cas, la responsabilité de l'arrêt revient à la l'appelant."
   ]
  },
  {
   "cell_type": "code",
   "execution_count": 6,
   "metadata": {},
   "outputs": [],
   "source": [
    "def powers2():\n",
    "    v = 1\n",
    "    while True:\n",
    "        yield v\n",
    "        v*=2"
   ]
  },
  {
   "cell_type": "code",
   "execution_count": 7,
   "metadata": {},
   "outputs": [
    {
     "name": "stdout",
     "output_type": "stream",
     "text": [
      "1\n",
      "2\n",
      "4\n",
      "8\n",
      "16\n",
      "32\n",
      "64\n",
      "128\n",
      "256\n",
      "512\n",
      "1024\n",
      "2048\n",
      "4096\n",
      "8192\n",
      "16384\n",
      "32768\n",
      "65536\n",
      "131072\n",
      "262144\n",
      "524288\n",
      "1048576\n"
     ]
    }
   ],
   "source": [
    "for v in powers2():\n",
    "    print(v)\n",
    "    if v > 1000000:\n",
    "        break"
   ]
  },
  {
   "cell_type": "markdown",
   "metadata": {},
   "source": [
    "**Exercice: Implantez les fonctions suivantes**"
   ]
  },
  {
   "cell_type": "code",
   "execution_count": 9,
   "metadata": {},
   "outputs": [],
   "source": [
    "def fibonacci_generator():\n",
    "    c  = 1\n",
    "    m1 = 0\n",
    "    while(True):\n",
    "        yield c\n",
    "        temp = c\n",
    "        c  = c + m1\n",
    "        m1 = temp\n"
   ]
  },
  {
   "cell_type": "code",
   "execution_count": 10,
   "metadata": {},
   "outputs": [],
   "source": [
    "it = fibonacci_generator()"
   ]
  },
  {
   "cell_type": "code",
   "execution_count": 15,
   "metadata": {},
   "outputs": [
    {
     "data": {
      "text/plain": [
       "5"
      ]
     },
     "execution_count": 15,
     "metadata": {},
     "output_type": "execute_result"
    }
   ],
   "source": [
    "next(it)"
   ]
  },
  {
   "cell_type": "code",
   "execution_count": 20,
   "metadata": {},
   "outputs": [],
   "source": [
    "def fibonacci_finder(n):\n",
    "    fb_gen = fibonacci_generator()\n",
    "    x = next(fb_gen)\n",
    "    while(x < n):\n",
    "        x = next(fb_gen)\n",
    "    return x\n"
   ]
  },
  {
   "cell_type": "code",
   "execution_count": 21,
   "metadata": {},
   "outputs": [
    {
     "data": {
      "text/plain": [
       "144"
      ]
     },
     "execution_count": 21,
     "metadata": {},
     "output_type": "execute_result"
    }
   ],
   "source": [
    "fibonacci_finder(124)"
   ]
  },
  {
   "cell_type": "code",
   "execution_count": 22,
   "metadata": {},
   "outputs": [],
   "source": [
    "assert fibonacci_finder(10) == 13\n",
    "assert fibonacci_finder(100) == 144\n",
    "assert fibonacci_finder(1000) == 1597\n",
    "assert fibonacci_finder(1000000) == 1346269"
   ]
  },
  {
   "cell_type": "markdown",
   "metadata": {},
   "source": [
    "## Mots binaires\n",
    "\n",
    "Nous allons nous intéresser à la génération récursive de mots binaires vérifiants certaines propriétés. Nous allons représenter les mots binaires par des chaines de caractères, par exemple:"
   ]
  },
  {
   "cell_type": "code",
   "execution_count": 23,
   "metadata": {},
   "outputs": [],
   "source": [
    "binaires1 = [\"0\", \"1\"]\n",
    "binaires2 = [\"00\", \"01\", \"10\", \"11\"]"
   ]
  },
  {
   "cell_type": "markdown",
   "metadata": {},
   "source": [
    "Les fonctions suivantes génèrent les mots binaires de taille 0,1, et 2."
   ]
  },
  {
   "cell_type": "code",
   "execution_count": 24,
   "metadata": {},
   "outputs": [],
   "source": [
    "def binary_word_generator0():\n",
    "    yield \"\"\n",
    "    \n",
    "def binary_word_generator1():\n",
    "    yield \"0\"\n",
    "    yield \"1\"\n",
    "    \n",
    "def binary_word_generator2():\n",
    "    for b in binary_word_generator1():\n",
    "        yield b + \"0\"\n",
    "        yield b + \"1\""
   ]
  },
  {
   "cell_type": "code",
   "execution_count": 35,
   "metadata": {},
   "outputs": [],
   "source": [
    "list(binary_word_generator2())"
   ]
  },
  {
   "cell_type": "markdown",
   "metadata": {},
   "source": [
    "En vous inspirant des fonctions précédentes (mais sans les utiliser) ou en reprenant la fonction du cours, implantez de façon récursive la fonction suivante qui engendre l'ensemble des mots binaires d'une taille donnée."
   ]
  },
  {
   "cell_type": "code",
   "execution_count": 38,
   "metadata": {},
   "outputs": [],
   "source": [
    "def binary_word_generator(n):\n",
    "    \"\"\"\n",
    "    Return a generator on binary words of size n in lexicographic order\n",
    "    \n",
    "    Input :\n",
    "        - n, the length of the words\n",
    "    \"\"\"\n",
    "    if(n == 0):\n",
    "        yield \"\"\n",
    "        return\n",
    "    gen_mb = binary_word_generator(n-1)\n",
    "    for x in gen_mb:\n",
    "        yield x + \"0\"\n",
    "        yield x + \"1\"\n",
    "    "
   ]
  },
  {
   "cell_type": "code",
   "execution_count": 39,
   "metadata": {},
   "outputs": [
    {
     "data": {
      "text/plain": [
       "['000', '001', '010', '011', '100', '101', '110', '111']"
      ]
     },
     "execution_count": 39,
     "metadata": {},
     "output_type": "execute_result"
    }
   ],
   "source": [
    "list(binary_word_generator(3))"
   ]
  },
  {
   "cell_type": "code",
   "execution_count": 40,
   "metadata": {},
   "outputs": [],
   "source": [
    "# tests\n",
    "import types\n",
    "assert type(binary_word_generator(0)) == types.GeneratorType\n",
    "assert list(binary_word_generator(0)) == ['']\n",
    "assert list(binary_word_generator(1)) == ['0', '1']\n",
    "assert list(binary_word_generator(2)) == ['00', '01', '10', '11']\n",
    "assert list(binary_word_generator(3)) == ['000', '001', '010', '011', '100', '101', '110', '111']\n",
    "assert len(list(binary_word_generator(4))) == 16\n",
    "assert len(list(binary_word_generator(7))) == 128"
   ]
  },
  {
   "cell_type": "code",
   "execution_count": null,
   "metadata": {
    "collapsed": true
   },
   "outputs": [],
   "source": []
  },
  {
   "cell_type": "code",
   "execution_count": null,
   "metadata": {
    "collapsed": true
   },
   "outputs": [],
   "source": []
  },
  {
   "cell_type": "markdown",
   "metadata": {},
   "source": [
    "**Sur le même modèle, implanter la fonction suivante. (un peu plus dur)**\n",
    "\n",
    "Indications :\n",
    " * Posez-vous la question de cette façon : si j'ai un mot de taille $n$ qui termine par 0 et qui contient $k$ fois 1, combien de 1 contenait le mot taille $n-1$ à partir duquel il a été créé ? De même s'il termine par 1.\n",
    " * Bien que la fonction ressemble à la précédente, vous **ne devez pas** appeler `binary_word_generator`\n",
    "\n",
    "*Remarque : l'ordre des mots n'est plus imposé*"
   ]
  },
  {
   "cell_type": "code",
   "execution_count": 48,
   "metadata": {},
   "outputs": [],
   "source": [
    "def binary_kword_generator(n,k):\n",
    "    \"\"\"\n",
    "    Return a generator on binary words of size n such that each word contains exacty k occurences of 1\n",
    "    \n",
    "    Input :\n",
    "    \n",
    "    - n, the size of the words\n",
    "    - k, the number of 1\n",
    "    \"\"\"\n",
    "    if(n < k):\n",
    "        return\n",
    "    if(n == k):\n",
    "        yield \"1\"*k\n",
    "    elif(k == 0):\n",
    "        yield \"0\"*n\n",
    "    else:\n",
    "        bkg_1 = binary_kword_generator(n-1, k-1) \n",
    "        bkg_0 = binary_kword_generator(n-1, k)\n",
    "        for word_1 in bkg_1:\n",
    "            yield \"1\" + word_1\n",
    "        for word_0 in bkg_0:\n",
    "            yield \"0\" + word_0"
   ]
  },
  {
   "cell_type": "code",
   "execution_count": 49,
   "metadata": {},
   "outputs": [
    {
     "data": {
      "text/plain": [
       "['1100', '1010', '1001', '0110', '0101', '0011']"
      ]
     },
     "execution_count": 49,
     "metadata": {},
     "output_type": "execute_result"
    }
   ],
   "source": [
    "list(binary_kword_generator(4,2))"
   ]
  },
  {
   "cell_type": "code",
   "execution_count": null,
   "metadata": {},
   "outputs": [],
   "source": []
  },
  {
   "cell_type": "code",
   "execution_count": 52,
   "metadata": {},
   "outputs": [],
   "source": [
    "# tests\n",
    "import types\n",
    "assert type(binary_kword_generator(0,0)) == types.GeneratorType\n",
    "assert list(binary_kword_generator(0,0)) == ['']\n",
    "assert list(binary_kword_generator(0,1)) == []\n",
    "assert list(binary_kword_generator(1,1)) == ['1']\n",
    "assert list(binary_kword_generator(4,4)) == ['1111']\n",
    "assert list(binary_kword_generator(4,0)) == ['0000']\n",
    "assert set(binary_kword_generator(4,2)) == set(['0011', '0101', '1001', '0110', '1010', '1100'])\n",
    "assert len(list(binary_kword_generator(7,3))) == 35"
   ]
  },
  {
   "cell_type": "markdown",
   "metadata": {},
   "source": [
    "**Et pour finir**\n",
    "\n",
    "On appelle un *prefixe de Dyck* un mot binaire de taille $n$ avec $k$ occurences de 1, tel que dans tout préfixe, le nombre de 1 soit supérieur ou égal au nombre de 0.\n",
    "\n",
    "Par exemple : $1101$ est un préfixe de Dyck pour $n=4$ et $k=3$. Mais $1001$ n'en est pas un car dans le prefixe $100$ le nombre de 0 est supérieur au nombre de 1."
   ]
  },
  {
   "cell_type": "code",
   "execution_count": 66,
   "metadata": {},
   "outputs": [],
   "source": [
    "def dyck_prefix_generator(n,k):\n",
    "    \"\"\"\n",
    "    Return a generator on binary words of size n such that each word contains exacty k occurences of 1, \n",
    "    and in any prefix, the number of 1 is greater than or equal to the number of 0.\n",
    "    \n",
    "    Input :\n",
    "    \n",
    "    - n, the size of the words\n",
    "    - k, the number of 1\n",
    "    \"\"\"\n",
    "    pferm = n-k\n",
    "    if(k == 0 and n == 0):\n",
    "        yield ''\n",
    "    elif (  k == 0 and n > 0 \\\n",
    "         or k > n or k < n-k):        \n",
    "        return\n",
    "    elif k == n:\n",
    "        yield '1' * n #pas forcément nécessaire, mais évite certains appels récursifs \n",
    "    else:\n",
    "        # 0<k<n\n",
    "        for w0 in dyck_prefix_generator(n-1, k):\n",
    "            yield w0 + \"0\"\n",
    "        for w1 in dyck_prefix_generator(n-1, k-1):\n",
    "            yield w1 + \"1\"\n",
    "    \n",
    "    "
   ]
  },
  {
   "cell_type": "code",
   "execution_count": 68,
   "metadata": {},
   "outputs": [
    {
     "name": "stdout",
     "output_type": "stream",
     "text": [
      "1111100000\n",
      "1111010000\n",
      "1110110000\n",
      "1101110000\n",
      "1011110000\n",
      "1111001000\n",
      "1110101000\n",
      "1101101000\n",
      "1011101000\n",
      "1110011000\n"
     ]
    }
   ],
   "source": [
    "list(dyck_prefix_generator(4,2))\n",
    "x = dyck_prefix_generator(10,5)\n",
    "for i in range(10):\n",
    "    print(next(x))"
   ]
  },
  {
   "cell_type": "code",
   "execution_count": 69,
   "metadata": {},
   "outputs": [],
   "source": [
    "assert len(list(dyck_prefix_generator(0,0))) == 1\n",
    "assert len(list(dyck_prefix_generator(0,1))) == 0\n",
    "assert len(list(dyck_prefix_generator(1,0))) == 0\n",
    "assert list(dyck_prefix_generator(1,1)) == ['1']\n",
    "assert set(dyck_prefix_generator(3,2)) == set([\"110\",\"101\"] )\n",
    "assert len(set(dyck_prefix_generator(10,5))) == 42"
   ]
  },
  {
   "cell_type": "markdown",
   "metadata": {},
   "source": [
    "Exécutez la ligne suivante et copiez la liste des nombres obtenus dans Google."
   ]
  },
  {
   "cell_type": "code",
   "execution_count": 70,
   "metadata": {},
   "outputs": [
    {
     "data": {
      "text/plain": [
       "[1, 1, 2, 5, 14, 42, 132, 429]"
      ]
     },
     "execution_count": 70,
     "metadata": {},
     "output_type": "execute_result"
    }
   ],
   "source": [
    "[len(set(dyck_prefix_generator(2*n, n))) for n in range(8)]"
   ]
  },
  {
   "cell_type": "markdown",
   "metadata": {},
   "source": [
    "## Aller plus loin\n",
    "\n",
    "### Compositions\n",
    "\n",
    "En vous inspirant de ce qui a été fait en cours reliant les **compositions de $n$** (différentes façons d'écrire $n$ comme une somme d'entiers positifs) avec les **mots binaires**, trouvez comment vous pouvez utiliser une des fonctions écrites plus haut pour engendrer les **compositions de $n$ avec un nombre de parts données**.\n",
    "\n",
    "### Autres objets\n",
    "\n",
    "Comme vous avez pu le voir, les nombres de Catalan comptent de nombreuses familles d'objets combinatoires.\n",
    "\n",
    " * Quelle famille d'objets avons-nous implantée ?\n",
    " * Pouvez-vous implanter les bijections entre cette famille et d'autres familles combinatoires telles que :\n",
    "     * [les partitions non croisées](https://en.wikipedia.org/wiki/Noncrossing_partition)\n",
    "     * [les arbres binaires](https://en.wikipedia.org/wiki/Binary_tree)\n",
    "     * ..."
   ]
  },
  {
   "cell_type": "code",
   "execution_count": null,
   "metadata": {
    "collapsed": true
   },
   "outputs": [],
   "source": []
  }
 ],
 "metadata": {
  "kernelspec": {
   "display_name": "Python 3",
   "language": "python",
   "name": "python3"
  },
  "language_info": {
   "codemirror_mode": {
    "name": "ipython",
    "version": 3
   },
   "file_extension": ".py",
   "mimetype": "text/x-python",
   "name": "python",
   "nbconvert_exporter": "python",
   "pygments_lexer": "ipython3",
   "version": "3.7.3"
  }
 },
 "nbformat": 4,
 "nbformat_minor": 2
}
